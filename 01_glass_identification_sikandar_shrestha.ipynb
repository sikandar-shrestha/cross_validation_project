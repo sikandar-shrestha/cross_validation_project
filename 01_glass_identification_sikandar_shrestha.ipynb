{
 "cells": [
  {
   "cell_type": "markdown",
   "metadata": {},
   "source": [
    "# EXERCISE: Glass Identification (aka \"Glassification\")"
   ]
  },
  {
   "cell_type": "markdown",
   "metadata": {},
   "source": [
    "## TASK 1: read the data into a DataFrame"
   ]
  },
  {
   "cell_type": "code",
   "execution_count": 1,
   "metadata": {
    "tags": []
   },
   "outputs": [],
   "source": [
    "import warnings\n",
    "warnings.filterwarnings(\"ignore\")\n",
    "\n",
    "import pandas as pd"
   ]
  },
  {
   "cell_type": "code",
   "execution_count": 2,
   "metadata": {
    "tags": []
   },
   "outputs": [
    {
     "data": {
      "text/html": [
       "<div>\n",
       "<style scoped>\n",
       "    .dataframe tbody tr th:only-of-type {\n",
       "        vertical-align: middle;\n",
       "    }\n",
       "\n",
       "    .dataframe tbody tr th {\n",
       "        vertical-align: top;\n",
       "    }\n",
       "\n",
       "    .dataframe thead th {\n",
       "        text-align: right;\n",
       "    }\n",
       "</style>\n",
       "<table border=\"1\" class=\"dataframe\">\n",
       "  <thead>\n",
       "    <tr style=\"text-align: right;\">\n",
       "      <th></th>\n",
       "      <th>ri</th>\n",
       "      <th>na</th>\n",
       "      <th>mg</th>\n",
       "      <th>al</th>\n",
       "      <th>si</th>\n",
       "      <th>k</th>\n",
       "      <th>ca</th>\n",
       "      <th>ba</th>\n",
       "      <th>fe</th>\n",
       "      <th>glass_type</th>\n",
       "    </tr>\n",
       "    <tr>\n",
       "      <th>id</th>\n",
       "      <th></th>\n",
       "      <th></th>\n",
       "      <th></th>\n",
       "      <th></th>\n",
       "      <th></th>\n",
       "      <th></th>\n",
       "      <th></th>\n",
       "      <th></th>\n",
       "      <th></th>\n",
       "      <th></th>\n",
       "    </tr>\n",
       "  </thead>\n",
       "  <tbody>\n",
       "    <tr>\n",
       "      <th>1</th>\n",
       "      <td>1.52101</td>\n",
       "      <td>13.64</td>\n",
       "      <td>4.49</td>\n",
       "      <td>1.10</td>\n",
       "      <td>71.78</td>\n",
       "      <td>0.06</td>\n",
       "      <td>8.75</td>\n",
       "      <td>0.0</td>\n",
       "      <td>0.0</td>\n",
       "      <td>1</td>\n",
       "    </tr>\n",
       "    <tr>\n",
       "      <th>2</th>\n",
       "      <td>1.51761</td>\n",
       "      <td>13.89</td>\n",
       "      <td>3.60</td>\n",
       "      <td>1.36</td>\n",
       "      <td>72.73</td>\n",
       "      <td>0.48</td>\n",
       "      <td>7.83</td>\n",
       "      <td>0.0</td>\n",
       "      <td>0.0</td>\n",
       "      <td>1</td>\n",
       "    </tr>\n",
       "    <tr>\n",
       "      <th>3</th>\n",
       "      <td>1.51618</td>\n",
       "      <td>13.53</td>\n",
       "      <td>3.55</td>\n",
       "      <td>1.54</td>\n",
       "      <td>72.99</td>\n",
       "      <td>0.39</td>\n",
       "      <td>7.78</td>\n",
       "      <td>0.0</td>\n",
       "      <td>0.0</td>\n",
       "      <td>1</td>\n",
       "    </tr>\n",
       "    <tr>\n",
       "      <th>4</th>\n",
       "      <td>1.51766</td>\n",
       "      <td>13.21</td>\n",
       "      <td>3.69</td>\n",
       "      <td>1.29</td>\n",
       "      <td>72.61</td>\n",
       "      <td>0.57</td>\n",
       "      <td>8.22</td>\n",
       "      <td>0.0</td>\n",
       "      <td>0.0</td>\n",
       "      <td>1</td>\n",
       "    </tr>\n",
       "    <tr>\n",
       "      <th>5</th>\n",
       "      <td>1.51742</td>\n",
       "      <td>13.27</td>\n",
       "      <td>3.62</td>\n",
       "      <td>1.24</td>\n",
       "      <td>73.08</td>\n",
       "      <td>0.55</td>\n",
       "      <td>8.07</td>\n",
       "      <td>0.0</td>\n",
       "      <td>0.0</td>\n",
       "      <td>1</td>\n",
       "    </tr>\n",
       "  </tbody>\n",
       "</table>\n",
       "</div>"
      ],
      "text/plain": [
       "         ri     na    mg    al     si     k    ca   ba   fe  glass_type\n",
       "id                                                                     \n",
       "1   1.52101  13.64  4.49  1.10  71.78  0.06  8.75  0.0  0.0           1\n",
       "2   1.51761  13.89  3.60  1.36  72.73  0.48  7.83  0.0  0.0           1\n",
       "3   1.51618  13.53  3.55  1.54  72.99  0.39  7.78  0.0  0.0           1\n",
       "4   1.51766  13.21  3.69  1.29  72.61  0.57  8.22  0.0  0.0           1\n",
       "5   1.51742  13.27  3.62  1.24  73.08  0.55  8.07  0.0  0.0           1"
      ]
     },
     "execution_count": 2,
     "metadata": {},
     "output_type": "execute_result"
    }
   ],
   "source": [
    "\n",
    "url = 'http://archive.ics.uci.edu/ml/machine-learning-databases/glass/glass.data'\n",
    "col_names = ['id','ri','na','mg','al','si','k','ca','ba','fe','glass_type']\n",
    "df = pd.read_csv(url, names=col_names, index_col='id')\n",
    "df.head()"
   ]
  },
  {
   "cell_type": "markdown",
   "metadata": {},
   "source": [
    "## TASK 2: briefly explore the data"
   ]
  },
  {
   "cell_type": "code",
   "execution_count": 3,
   "metadata": {
    "tags": []
   },
   "outputs": [
    {
     "name": "stdout",
     "output_type": "stream",
     "text": [
      "<class 'pandas.core.frame.DataFrame'>\n",
      "Index: 214 entries, 1 to 214\n",
      "Data columns (total 10 columns):\n",
      " #   Column      Non-Null Count  Dtype  \n",
      "---  ------      --------------  -----  \n",
      " 0   ri          214 non-null    float64\n",
      " 1   na          214 non-null    float64\n",
      " 2   mg          214 non-null    float64\n",
      " 3   al          214 non-null    float64\n",
      " 4   si          214 non-null    float64\n",
      " 5   k           214 non-null    float64\n",
      " 6   ca          214 non-null    float64\n",
      " 7   ba          214 non-null    float64\n",
      " 8   fe          214 non-null    float64\n",
      " 9   glass_type  214 non-null    int64  \n",
      "dtypes: float64(9), int64(1)\n",
      "memory usage: 18.4 KB\n"
     ]
    }
   ],
   "source": [
    "df.info()"
   ]
  },
  {
   "cell_type": "code",
   "execution_count": 4,
   "metadata": {
    "tags": []
   },
   "outputs": [
    {
     "data": {
      "text/html": [
       "<div>\n",
       "<style scoped>\n",
       "    .dataframe tbody tr th:only-of-type {\n",
       "        vertical-align: middle;\n",
       "    }\n",
       "\n",
       "    .dataframe tbody tr th {\n",
       "        vertical-align: top;\n",
       "    }\n",
       "\n",
       "    .dataframe thead th {\n",
       "        text-align: right;\n",
       "    }\n",
       "</style>\n",
       "<table border=\"1\" class=\"dataframe\">\n",
       "  <thead>\n",
       "    <tr style=\"text-align: right;\">\n",
       "      <th></th>\n",
       "      <th>ri</th>\n",
       "      <th>na</th>\n",
       "      <th>mg</th>\n",
       "      <th>al</th>\n",
       "      <th>si</th>\n",
       "      <th>k</th>\n",
       "      <th>ca</th>\n",
       "      <th>ba</th>\n",
       "      <th>fe</th>\n",
       "      <th>glass_type</th>\n",
       "    </tr>\n",
       "  </thead>\n",
       "  <tbody>\n",
       "    <tr>\n",
       "      <th>ri</th>\n",
       "      <td>1.000000</td>\n",
       "      <td>-0.191885</td>\n",
       "      <td>-0.122274</td>\n",
       "      <td>-0.407326</td>\n",
       "      <td>-0.542052</td>\n",
       "      <td>-0.289833</td>\n",
       "      <td>0.810403</td>\n",
       "      <td>-0.000386</td>\n",
       "      <td>0.143010</td>\n",
       "      <td>-0.164237</td>\n",
       "    </tr>\n",
       "    <tr>\n",
       "      <th>na</th>\n",
       "      <td>-0.191885</td>\n",
       "      <td>1.000000</td>\n",
       "      <td>-0.273732</td>\n",
       "      <td>0.156794</td>\n",
       "      <td>-0.069809</td>\n",
       "      <td>-0.266087</td>\n",
       "      <td>-0.275442</td>\n",
       "      <td>0.326603</td>\n",
       "      <td>-0.241346</td>\n",
       "      <td>0.502898</td>\n",
       "    </tr>\n",
       "    <tr>\n",
       "      <th>mg</th>\n",
       "      <td>-0.122274</td>\n",
       "      <td>-0.273732</td>\n",
       "      <td>1.000000</td>\n",
       "      <td>-0.481799</td>\n",
       "      <td>-0.165927</td>\n",
       "      <td>0.005396</td>\n",
       "      <td>-0.443750</td>\n",
       "      <td>-0.492262</td>\n",
       "      <td>0.083060</td>\n",
       "      <td>-0.744993</td>\n",
       "    </tr>\n",
       "    <tr>\n",
       "      <th>al</th>\n",
       "      <td>-0.407326</td>\n",
       "      <td>0.156794</td>\n",
       "      <td>-0.481799</td>\n",
       "      <td>1.000000</td>\n",
       "      <td>-0.005524</td>\n",
       "      <td>0.325958</td>\n",
       "      <td>-0.259592</td>\n",
       "      <td>0.479404</td>\n",
       "      <td>-0.074402</td>\n",
       "      <td>0.598829</td>\n",
       "    </tr>\n",
       "    <tr>\n",
       "      <th>si</th>\n",
       "      <td>-0.542052</td>\n",
       "      <td>-0.069809</td>\n",
       "      <td>-0.165927</td>\n",
       "      <td>-0.005524</td>\n",
       "      <td>1.000000</td>\n",
       "      <td>-0.193331</td>\n",
       "      <td>-0.208732</td>\n",
       "      <td>-0.102151</td>\n",
       "      <td>-0.094201</td>\n",
       "      <td>0.151565</td>\n",
       "    </tr>\n",
       "    <tr>\n",
       "      <th>k</th>\n",
       "      <td>-0.289833</td>\n",
       "      <td>-0.266087</td>\n",
       "      <td>0.005396</td>\n",
       "      <td>0.325958</td>\n",
       "      <td>-0.193331</td>\n",
       "      <td>1.000000</td>\n",
       "      <td>-0.317836</td>\n",
       "      <td>-0.042618</td>\n",
       "      <td>-0.007719</td>\n",
       "      <td>-0.010054</td>\n",
       "    </tr>\n",
       "    <tr>\n",
       "      <th>ca</th>\n",
       "      <td>0.810403</td>\n",
       "      <td>-0.275442</td>\n",
       "      <td>-0.443750</td>\n",
       "      <td>-0.259592</td>\n",
       "      <td>-0.208732</td>\n",
       "      <td>-0.317836</td>\n",
       "      <td>1.000000</td>\n",
       "      <td>-0.112841</td>\n",
       "      <td>0.124968</td>\n",
       "      <td>0.000952</td>\n",
       "    </tr>\n",
       "    <tr>\n",
       "      <th>ba</th>\n",
       "      <td>-0.000386</td>\n",
       "      <td>0.326603</td>\n",
       "      <td>-0.492262</td>\n",
       "      <td>0.479404</td>\n",
       "      <td>-0.102151</td>\n",
       "      <td>-0.042618</td>\n",
       "      <td>-0.112841</td>\n",
       "      <td>1.000000</td>\n",
       "      <td>-0.058692</td>\n",
       "      <td>0.575161</td>\n",
       "    </tr>\n",
       "    <tr>\n",
       "      <th>fe</th>\n",
       "      <td>0.143010</td>\n",
       "      <td>-0.241346</td>\n",
       "      <td>0.083060</td>\n",
       "      <td>-0.074402</td>\n",
       "      <td>-0.094201</td>\n",
       "      <td>-0.007719</td>\n",
       "      <td>0.124968</td>\n",
       "      <td>-0.058692</td>\n",
       "      <td>1.000000</td>\n",
       "      <td>-0.188278</td>\n",
       "    </tr>\n",
       "    <tr>\n",
       "      <th>glass_type</th>\n",
       "      <td>-0.164237</td>\n",
       "      <td>0.502898</td>\n",
       "      <td>-0.744993</td>\n",
       "      <td>0.598829</td>\n",
       "      <td>0.151565</td>\n",
       "      <td>-0.010054</td>\n",
       "      <td>0.000952</td>\n",
       "      <td>0.575161</td>\n",
       "      <td>-0.188278</td>\n",
       "      <td>1.000000</td>\n",
       "    </tr>\n",
       "  </tbody>\n",
       "</table>\n",
       "</div>"
      ],
      "text/plain": [
       "                  ri        na        mg        al        si         k  \\\n",
       "ri          1.000000 -0.191885 -0.122274 -0.407326 -0.542052 -0.289833   \n",
       "na         -0.191885  1.000000 -0.273732  0.156794 -0.069809 -0.266087   \n",
       "mg         -0.122274 -0.273732  1.000000 -0.481799 -0.165927  0.005396   \n",
       "al         -0.407326  0.156794 -0.481799  1.000000 -0.005524  0.325958   \n",
       "si         -0.542052 -0.069809 -0.165927 -0.005524  1.000000 -0.193331   \n",
       "k          -0.289833 -0.266087  0.005396  0.325958 -0.193331  1.000000   \n",
       "ca          0.810403 -0.275442 -0.443750 -0.259592 -0.208732 -0.317836   \n",
       "ba         -0.000386  0.326603 -0.492262  0.479404 -0.102151 -0.042618   \n",
       "fe          0.143010 -0.241346  0.083060 -0.074402 -0.094201 -0.007719   \n",
       "glass_type -0.164237  0.502898 -0.744993  0.598829  0.151565 -0.010054   \n",
       "\n",
       "                  ca        ba        fe  glass_type  \n",
       "ri          0.810403 -0.000386  0.143010   -0.164237  \n",
       "na         -0.275442  0.326603 -0.241346    0.502898  \n",
       "mg         -0.443750 -0.492262  0.083060   -0.744993  \n",
       "al         -0.259592  0.479404 -0.074402    0.598829  \n",
       "si         -0.208732 -0.102151 -0.094201    0.151565  \n",
       "k          -0.317836 -0.042618 -0.007719   -0.010054  \n",
       "ca          1.000000 -0.112841  0.124968    0.000952  \n",
       "ba         -0.112841  1.000000 -0.058692    0.575161  \n",
       "fe          0.124968 -0.058692  1.000000   -0.188278  \n",
       "glass_type  0.000952  0.575161 -0.188278    1.000000  "
      ]
     },
     "execution_count": 4,
     "metadata": {},
     "output_type": "execute_result"
    }
   ],
   "source": [
    "correlation_matrix= df.corr()\n",
    "correlation_matrix"
   ]
  },
  {
   "cell_type": "code",
   "execution_count": 5,
   "metadata": {
    "tags": []
   },
   "outputs": [
    {
     "data": {
      "text/plain": [
       "<Axes: >"
      ]
     },
     "execution_count": 5,
     "metadata": {},
     "output_type": "execute_result"
    },
    {
     "data": {
      "image/png": "[encoded data removed]",
      "text/plain": [
       "<Figure size 640x480 with 2 Axes>"
      ]
     },
     "metadata": {},
     "output_type": "display_data"
    }
   ],
   "source": [
    "import seaborn as sns\n",
    "# Create a heatmap\n",
    "sns.heatmap(correlation_matrix, annot=True)"
   ]
  },
  {
   "cell_type": "code",
   "execution_count": 6,
   "metadata": {
    "tags": []
   },
   "outputs": [
    {
     "data": {
      "text/plain": [
       "array([1, 2, 3, 5, 6, 7])"
      ]
     },
     "execution_count": 6,
     "metadata": {},
     "output_type": "execute_result"
    }
   ],
   "source": [
    "df.glass_type.unique()"
   ]
  },
  {
   "cell_type": "code",
   "execution_count": 7,
   "metadata": {
    "tags": []
   },
   "outputs": [
    {
     "data": {
      "text/plain": [
       "glass_type\n",
       "1     70\n",
       "2    152\n",
       "3     51\n",
       "5     65\n",
       "6     54\n",
       "7    203\n",
       "Name: glass_type, dtype: int64"
      ]
     },
     "execution_count": 7,
     "metadata": {},
     "output_type": "execute_result"
    }
   ],
   "source": [
    "df.groupby('glass_type')['glass_type'].sum()"
   ]
  },
  {
   "cell_type": "markdown",
   "metadata": {},
   "source": [
    "## TASK 3: convert into binary classification problem \n",
    "\n",
    "Convert this into a binary classification problem. Create a new DataFrame column called \"binary\":\n",
    "\n",
    "1.\tIf type of glass = 1/2/3/4, set binary = 0.\n",
    "\n",
    "2.\tIf type of glass = 5/6/7, set binary = 1."
   ]
  },
  {
   "cell_type": "code",
   "execution_count": 8,
   "metadata": {
    "collapsed": false,
    "jupyter": {
     "outputs_hidden": false
    },
    "tags": []
   },
   "outputs": [],
   "source": [
    "# Define a function to map glass types to binary values\n",
    "def map_glass_to_binary(glass_type):\n",
    "    if glass_type in [1, 2, 3, 4]:\n",
    "        return 0\n",
    "    else:\n",
    "        return 1\n",
    "    \n"
   ]
  },
  {
   "cell_type": "code",
   "execution_count": 9,
   "metadata": {
    "tags": []
   },
   "outputs": [
    {
     "data": {
      "text/html": [
       "<div>\n",
       "<style scoped>\n",
       "    .dataframe tbody tr th:only-of-type {\n",
       "        vertical-align: middle;\n",
       "    }\n",
       "\n",
       "    .dataframe tbody tr th {\n",
       "        vertical-align: top;\n",
       "    }\n",
       "\n",
       "    .dataframe thead th {\n",
       "        text-align: right;\n",
       "    }\n",
       "</style>\n",
       "<table border=\"1\" class=\"dataframe\">\n",
       "  <thead>\n",
       "    <tr style=\"text-align: right;\">\n",
       "      <th></th>\n",
       "      <th>ri</th>\n",
       "      <th>na</th>\n",
       "      <th>mg</th>\n",
       "      <th>al</th>\n",
       "      <th>si</th>\n",
       "      <th>k</th>\n",
       "      <th>ca</th>\n",
       "      <th>ba</th>\n",
       "      <th>fe</th>\n",
       "      <th>glass_type</th>\n",
       "      <th>binary</th>\n",
       "    </tr>\n",
       "    <tr>\n",
       "      <th>id</th>\n",
       "      <th></th>\n",
       "      <th></th>\n",
       "      <th></th>\n",
       "      <th></th>\n",
       "      <th></th>\n",
       "      <th></th>\n",
       "      <th></th>\n",
       "      <th></th>\n",
       "      <th></th>\n",
       "      <th></th>\n",
       "      <th></th>\n",
       "    </tr>\n",
       "  </thead>\n",
       "  <tbody>\n",
       "    <tr>\n",
       "      <th>1</th>\n",
       "      <td>1.52101</td>\n",
       "      <td>13.64</td>\n",
       "      <td>4.49</td>\n",
       "      <td>1.10</td>\n",
       "      <td>71.78</td>\n",
       "      <td>0.06</td>\n",
       "      <td>8.75</td>\n",
       "      <td>0.0</td>\n",
       "      <td>0.0</td>\n",
       "      <td>1</td>\n",
       "      <td>0</td>\n",
       "    </tr>\n",
       "    <tr>\n",
       "      <th>2</th>\n",
       "      <td>1.51761</td>\n",
       "      <td>13.89</td>\n",
       "      <td>3.60</td>\n",
       "      <td>1.36</td>\n",
       "      <td>72.73</td>\n",
       "      <td>0.48</td>\n",
       "      <td>7.83</td>\n",
       "      <td>0.0</td>\n",
       "      <td>0.0</td>\n",
       "      <td>1</td>\n",
       "      <td>0</td>\n",
       "    </tr>\n",
       "    <tr>\n",
       "      <th>3</th>\n",
       "      <td>1.51618</td>\n",
       "      <td>13.53</td>\n",
       "      <td>3.55</td>\n",
       "      <td>1.54</td>\n",
       "      <td>72.99</td>\n",
       "      <td>0.39</td>\n",
       "      <td>7.78</td>\n",
       "      <td>0.0</td>\n",
       "      <td>0.0</td>\n",
       "      <td>1</td>\n",
       "      <td>0</td>\n",
       "    </tr>\n",
       "    <tr>\n",
       "      <th>4</th>\n",
       "      <td>1.51766</td>\n",
       "      <td>13.21</td>\n",
       "      <td>3.69</td>\n",
       "      <td>1.29</td>\n",
       "      <td>72.61</td>\n",
       "      <td>0.57</td>\n",
       "      <td>8.22</td>\n",
       "      <td>0.0</td>\n",
       "      <td>0.0</td>\n",
       "      <td>1</td>\n",
       "      <td>0</td>\n",
       "    </tr>\n",
       "    <tr>\n",
       "      <th>5</th>\n",
       "      <td>1.51742</td>\n",
       "      <td>13.27</td>\n",
       "      <td>3.62</td>\n",
       "      <td>1.24</td>\n",
       "      <td>73.08</td>\n",
       "      <td>0.55</td>\n",
       "      <td>8.07</td>\n",
       "      <td>0.0</td>\n",
       "      <td>0.0</td>\n",
       "      <td>1</td>\n",
       "      <td>0</td>\n",
       "    </tr>\n",
       "  </tbody>\n",
       "</table>\n",
       "</div>"
      ],
      "text/plain": [
       "         ri     na    mg    al     si     k    ca   ba   fe  glass_type  \\\n",
       "id                                                                        \n",
       "1   1.52101  13.64  4.49  1.10  71.78  0.06  8.75  0.0  0.0           1   \n",
       "2   1.51761  13.89  3.60  1.36  72.73  0.48  7.83  0.0  0.0           1   \n",
       "3   1.51618  13.53  3.55  1.54  72.99  0.39  7.78  0.0  0.0           1   \n",
       "4   1.51766  13.21  3.69  1.29  72.61  0.57  8.22  0.0  0.0           1   \n",
       "5   1.51742  13.27  3.62  1.24  73.08  0.55  8.07  0.0  0.0           1   \n",
       "\n",
       "    binary  \n",
       "id          \n",
       "1        0  \n",
       "2        0  \n",
       "3        0  \n",
       "4        0  \n",
       "5        0  "
      ]
     },
     "execution_count": 9,
     "metadata": {},
     "output_type": "execute_result"
    }
   ],
   "source": [
    "# Apply the function to create the 'binary' column\n",
    "df['binary'] = df['glass_type'].map(map_glass_to_binary)\n",
    "df.head()"
   ]
  },
  {
   "cell_type": "code",
   "execution_count": 10,
   "metadata": {},
   "outputs": [
    {
     "data": {
      "text/html": [
       "<div>\n",
       "<style scoped>\n",
       "    .dataframe tbody tr th:only-of-type {\n",
       "        vertical-align: middle;\n",
       "    }\n",
       "\n",
       "    .dataframe tbody tr th {\n",
       "        vertical-align: top;\n",
       "    }\n",
       "\n",
       "    .dataframe thead th {\n",
       "        text-align: right;\n",
       "    }\n",
       "</style>\n",
       "<table border=\"1\" class=\"dataframe\">\n",
       "  <thead>\n",
       "    <tr style=\"text-align: right;\">\n",
       "      <th></th>\n",
       "      <th>ri</th>\n",
       "      <th>na</th>\n",
       "      <th>mg</th>\n",
       "      <th>al</th>\n",
       "      <th>si</th>\n",
       "      <th>k</th>\n",
       "      <th>ca</th>\n",
       "      <th>ba</th>\n",
       "      <th>fe</th>\n",
       "      <th>glass_type</th>\n",
       "      <th>binary</th>\n",
       "    </tr>\n",
       "  </thead>\n",
       "  <tbody>\n",
       "    <tr>\n",
       "      <th>ri</th>\n",
       "      <td>1.000000</td>\n",
       "      <td>-0.191885</td>\n",
       "      <td>-0.122274</td>\n",
       "      <td>-0.407326</td>\n",
       "      <td>-0.542052</td>\n",
       "      <td>-0.289833</td>\n",
       "      <td>0.810403</td>\n",
       "      <td>-0.000386</td>\n",
       "      <td>0.143010</td>\n",
       "      <td>-0.164237</td>\n",
       "      <td>-0.134327</td>\n",
       "    </tr>\n",
       "    <tr>\n",
       "      <th>na</th>\n",
       "      <td>-0.191885</td>\n",
       "      <td>1.000000</td>\n",
       "      <td>-0.273732</td>\n",
       "      <td>0.156794</td>\n",
       "      <td>-0.069809</td>\n",
       "      <td>-0.266087</td>\n",
       "      <td>-0.275442</td>\n",
       "      <td>0.326603</td>\n",
       "      <td>-0.241346</td>\n",
       "      <td>0.502898</td>\n",
       "      <td>0.452336</td>\n",
       "    </tr>\n",
       "    <tr>\n",
       "      <th>mg</th>\n",
       "      <td>-0.122274</td>\n",
       "      <td>-0.273732</td>\n",
       "      <td>1.000000</td>\n",
       "      <td>-0.481799</td>\n",
       "      <td>-0.165927</td>\n",
       "      <td>0.005396</td>\n",
       "      <td>-0.443750</td>\n",
       "      <td>-0.492262</td>\n",
       "      <td>0.083060</td>\n",
       "      <td>-0.744993</td>\n",
       "      <td>-0.758289</td>\n",
       "    </tr>\n",
       "    <tr>\n",
       "      <th>al</th>\n",
       "      <td>-0.407326</td>\n",
       "      <td>0.156794</td>\n",
       "      <td>-0.481799</td>\n",
       "      <td>1.000000</td>\n",
       "      <td>-0.005524</td>\n",
       "      <td>0.325958</td>\n",
       "      <td>-0.259592</td>\n",
       "      <td>0.479404</td>\n",
       "      <td>-0.074402</td>\n",
       "      <td>0.598829</td>\n",
       "      <td>0.585928</td>\n",
       "    </tr>\n",
       "    <tr>\n",
       "      <th>si</th>\n",
       "      <td>-0.542052</td>\n",
       "      <td>-0.069809</td>\n",
       "      <td>-0.165927</td>\n",
       "      <td>-0.005524</td>\n",
       "      <td>1.000000</td>\n",
       "      <td>-0.193331</td>\n",
       "      <td>-0.208732</td>\n",
       "      <td>-0.102151</td>\n",
       "      <td>-0.094201</td>\n",
       "      <td>0.151565</td>\n",
       "      <td>0.148072</td>\n",
       "    </tr>\n",
       "    <tr>\n",
       "      <th>k</th>\n",
       "      <td>-0.289833</td>\n",
       "      <td>-0.266087</td>\n",
       "      <td>0.005396</td>\n",
       "      <td>0.325958</td>\n",
       "      <td>-0.193331</td>\n",
       "      <td>1.000000</td>\n",
       "      <td>-0.317836</td>\n",
       "      <td>-0.042618</td>\n",
       "      <td>-0.007719</td>\n",
       "      <td>-0.010054</td>\n",
       "      <td>0.053774</td>\n",
       "    </tr>\n",
       "    <tr>\n",
       "      <th>ca</th>\n",
       "      <td>0.810403</td>\n",
       "      <td>-0.275442</td>\n",
       "      <td>-0.443750</td>\n",
       "      <td>-0.259592</td>\n",
       "      <td>-0.208732</td>\n",
       "      <td>-0.317836</td>\n",
       "      <td>1.000000</td>\n",
       "      <td>-0.112841</td>\n",
       "      <td>0.124968</td>\n",
       "      <td>0.000952</td>\n",
       "      <td>0.040670</td>\n",
       "    </tr>\n",
       "    <tr>\n",
       "      <th>ba</th>\n",
       "      <td>-0.000386</td>\n",
       "      <td>0.326603</td>\n",
       "      <td>-0.492262</td>\n",
       "      <td>0.479404</td>\n",
       "      <td>-0.102151</td>\n",
       "      <td>-0.042618</td>\n",
       "      <td>-0.112841</td>\n",
       "      <td>1.000000</td>\n",
       "      <td>-0.058692</td>\n",
       "      <td>0.575161</td>\n",
       "      <td>0.523403</td>\n",
       "    </tr>\n",
       "    <tr>\n",
       "      <th>fe</th>\n",
       "      <td>0.143010</td>\n",
       "      <td>-0.241346</td>\n",
       "      <td>0.083060</td>\n",
       "      <td>-0.074402</td>\n",
       "      <td>-0.094201</td>\n",
       "      <td>-0.007719</td>\n",
       "      <td>0.124968</td>\n",
       "      <td>-0.058692</td>\n",
       "      <td>1.000000</td>\n",
       "      <td>-0.188278</td>\n",
       "      <td>-0.194903</td>\n",
       "    </tr>\n",
       "    <tr>\n",
       "      <th>glass_type</th>\n",
       "      <td>-0.164237</td>\n",
       "      <td>0.502898</td>\n",
       "      <td>-0.744993</td>\n",
       "      <td>0.598829</td>\n",
       "      <td>0.151565</td>\n",
       "      <td>-0.010054</td>\n",
       "      <td>0.000952</td>\n",
       "      <td>0.575161</td>\n",
       "      <td>-0.188278</td>\n",
       "      <td>1.000000</td>\n",
       "      <td>0.941680</td>\n",
       "    </tr>\n",
       "    <tr>\n",
       "      <th>binary</th>\n",
       "      <td>-0.134327</td>\n",
       "      <td>0.452336</td>\n",
       "      <td>-0.758289</td>\n",
       "      <td>0.585928</td>\n",
       "      <td>0.148072</td>\n",
       "      <td>0.053774</td>\n",
       "      <td>0.040670</td>\n",
       "      <td>0.523403</td>\n",
       "      <td>-0.194903</td>\n",
       "      <td>0.941680</td>\n",
       "      <td>1.000000</td>\n",
       "    </tr>\n",
       "  </tbody>\n",
       "</table>\n",
       "</div>"
      ],
      "text/plain": [
       "                  ri        na        mg        al        si         k  \\\n",
       "ri          1.000000 -0.191885 -0.122274 -0.407326 -0.542052 -0.289833   \n",
       "na         -0.191885  1.000000 -0.273732  0.156794 -0.069809 -0.266087   \n",
       "mg         -0.122274 -0.273732  1.000000 -0.481799 -0.165927  0.005396   \n",
       "al         -0.407326  0.156794 -0.481799  1.000000 -0.005524  0.325958   \n",
       "si         -0.542052 -0.069809 -0.165927 -0.005524  1.000000 -0.193331   \n",
       "k          -0.289833 -0.266087  0.005396  0.325958 -0.193331  1.000000   \n",
       "ca          0.810403 -0.275442 -0.443750 -0.259592 -0.208732 -0.317836   \n",
       "ba         -0.000386  0.326603 -0.492262  0.479404 -0.102151 -0.042618   \n",
       "fe          0.143010 -0.241346  0.083060 -0.074402 -0.094201 -0.007719   \n",
       "glass_type -0.164237  0.502898 -0.744993  0.598829  0.151565 -0.010054   \n",
       "binary     -0.134327  0.452336 -0.758289  0.585928  0.148072  0.053774   \n",
       "\n",
       "                  ca        ba        fe  glass_type    binary  \n",
       "ri          0.810403 -0.000386  0.143010   -0.164237 -0.134327  \n",
       "na         -0.275442  0.326603 -0.241346    0.502898  0.452336  \n",
       "mg         -0.443750 -0.492262  0.083060   -0.744993 -0.758289  \n",
       "al         -0.259592  0.479404 -0.074402    0.598829  0.585928  \n",
       "si         -0.208732 -0.102151 -0.094201    0.151565  0.148072  \n",
       "k          -0.317836 -0.042618 -0.007719   -0.010054  0.053774  \n",
       "ca          1.000000 -0.112841  0.124968    0.000952  0.040670  \n",
       "ba         -0.112841  1.000000 -0.058692    0.575161  0.523403  \n",
       "fe          0.124968 -0.058692  1.000000   -0.188278 -0.194903  \n",
       "glass_type  0.000952  0.575161 -0.188278    1.000000  0.941680  \n",
       "binary      0.040670  0.523403 -0.194903    0.941680  1.000000  "
      ]
     },
     "execution_count": 10,
     "metadata": {},
     "output_type": "execute_result"
    }
   ],
   "source": [
    "correlation_matrix=df.corr()\n",
    "correlation_matrix"
   ]
  },
  {
   "cell_type": "code",
   "execution_count": 11,
   "metadata": {},
   "outputs": [
    {
     "data": {
      "text/plain": [
       "<Axes: >"
      ]
     },
     "execution_count": 11,
     "metadata": {},
     "output_type": "execute_result"
    },
    {
     "data": {
      "image/png": "[encoded data removed]",
      "text/plain": [
       "<Figure size 640x480 with 2 Axes>"
      ]
     },
     "metadata": {},
     "output_type": "display_data"
    }
   ],
   "source": [
    "# Create a heatmap\n",
    "sns.heatmap(correlation_matrix, annot=True)"
   ]
  },
  {
   "cell_type": "code",
   "execution_count": 12,
   "metadata": {
    "tags": []
   },
   "outputs": [
    {
     "data": {
      "text/plain": [
       "array([0, 1])"
      ]
     },
     "execution_count": 12,
     "metadata": {},
     "output_type": "execute_result"
    }
   ],
   "source": [
    "df.binary.unique()"
   ]
  },
  {
   "cell_type": "code",
   "execution_count": 13,
   "metadata": {
    "tags": []
   },
   "outputs": [
    {
     "data": {
      "text/plain": [
       "binary\n",
       "0    163\n",
       "1     51\n",
       "Name: count, dtype: int64"
      ]
     },
     "execution_count": 13,
     "metadata": {},
     "output_type": "execute_result"
    }
   ],
   "source": [
    "df.binary.value_counts()"
   ]
  },
  {
   "cell_type": "markdown",
   "metadata": {},
   "source": [
    "## TASK 4: create a feature matrix (X) using all features "
   ]
  },
  {
   "cell_type": "code",
   "execution_count": 14,
   "metadata": {
    "collapsed": false,
    "jupyter": {
     "outputs_hidden": false
    },
    "tags": []
   },
   "outputs": [
    {
     "data": {
      "text/html": [
       "<div>\n",
       "<style scoped>\n",
       "    .dataframe tbody tr th:only-of-type {\n",
       "        vertical-align: middle;\n",
       "    }\n",
       "\n",
       "    .dataframe tbody tr th {\n",
       "        vertical-align: top;\n",
       "    }\n",
       "\n",
       "    .dataframe thead th {\n",
       "        text-align: right;\n",
       "    }\n",
       "</style>\n",
       "<table border=\"1\" class=\"dataframe\">\n",
       "  <thead>\n",
       "    <tr style=\"text-align: right;\">\n",
       "      <th></th>\n",
       "      <th>ri</th>\n",
       "      <th>na</th>\n",
       "      <th>mg</th>\n",
       "      <th>al</th>\n",
       "      <th>si</th>\n",
       "      <th>k</th>\n",
       "      <th>ca</th>\n",
       "      <th>ba</th>\n",
       "      <th>fe</th>\n",
       "    </tr>\n",
       "    <tr>\n",
       "      <th>id</th>\n",
       "      <th></th>\n",
       "      <th></th>\n",
       "      <th></th>\n",
       "      <th></th>\n",
       "      <th></th>\n",
       "      <th></th>\n",
       "      <th></th>\n",
       "      <th></th>\n",
       "      <th></th>\n",
       "    </tr>\n",
       "  </thead>\n",
       "  <tbody>\n",
       "    <tr>\n",
       "      <th>1</th>\n",
       "      <td>1.52101</td>\n",
       "      <td>13.64</td>\n",
       "      <td>4.49</td>\n",
       "      <td>1.10</td>\n",
       "      <td>71.78</td>\n",
       "      <td>0.06</td>\n",
       "      <td>8.75</td>\n",
       "      <td>0.0</td>\n",
       "      <td>0.0</td>\n",
       "    </tr>\n",
       "    <tr>\n",
       "      <th>2</th>\n",
       "      <td>1.51761</td>\n",
       "      <td>13.89</td>\n",
       "      <td>3.60</td>\n",
       "      <td>1.36</td>\n",
       "      <td>72.73</td>\n",
       "      <td>0.48</td>\n",
       "      <td>7.83</td>\n",
       "      <td>0.0</td>\n",
       "      <td>0.0</td>\n",
       "    </tr>\n",
       "    <tr>\n",
       "      <th>3</th>\n",
       "      <td>1.51618</td>\n",
       "      <td>13.53</td>\n",
       "      <td>3.55</td>\n",
       "      <td>1.54</td>\n",
       "      <td>72.99</td>\n",
       "      <td>0.39</td>\n",
       "      <td>7.78</td>\n",
       "      <td>0.0</td>\n",
       "      <td>0.0</td>\n",
       "    </tr>\n",
       "    <tr>\n",
       "      <th>4</th>\n",
       "      <td>1.51766</td>\n",
       "      <td>13.21</td>\n",
       "      <td>3.69</td>\n",
       "      <td>1.29</td>\n",
       "      <td>72.61</td>\n",
       "      <td>0.57</td>\n",
       "      <td>8.22</td>\n",
       "      <td>0.0</td>\n",
       "      <td>0.0</td>\n",
       "    </tr>\n",
       "    <tr>\n",
       "      <th>5</th>\n",
       "      <td>1.51742</td>\n",
       "      <td>13.27</td>\n",
       "      <td>3.62</td>\n",
       "      <td>1.24</td>\n",
       "      <td>73.08</td>\n",
       "      <td>0.55</td>\n",
       "      <td>8.07</td>\n",
       "      <td>0.0</td>\n",
       "      <td>0.0</td>\n",
       "    </tr>\n",
       "  </tbody>\n",
       "</table>\n",
       "</div>"
      ],
      "text/plain": [
       "         ri     na    mg    al     si     k    ca   ba   fe\n",
       "id                                                         \n",
       "1   1.52101  13.64  4.49  1.10  71.78  0.06  8.75  0.0  0.0\n",
       "2   1.51761  13.89  3.60  1.36  72.73  0.48  7.83  0.0  0.0\n",
       "3   1.51618  13.53  3.55  1.54  72.99  0.39  7.78  0.0  0.0\n",
       "4   1.51766  13.21  3.69  1.29  72.61  0.57  8.22  0.0  0.0\n",
       "5   1.51742  13.27  3.62  1.24  73.08  0.55  8.07  0.0  0.0"
      ]
     },
     "execution_count": 14,
     "metadata": {},
     "output_type": "execute_result"
    }
   ],
   "source": [
    "# Create the feature matrix X\n",
    "# Exclude 'type' and 'binary' columns if they exist\n",
    "X = df.drop(columns=['glass_type', 'binary'])  \n",
    "\n",
    "# Display the feature matrix\n",
    "X.head()"
   ]
  },
  {
   "cell_type": "markdown",
   "metadata": {},
   "source": [
    "## TASK 5: create a response vector (y)"
   ]
  },
  {
   "cell_type": "code",
   "execution_count": 15,
   "metadata": {
    "tags": []
   },
   "outputs": [
    {
     "data": {
      "text/plain": [
       "id\n",
       "1      0\n",
       "2      0\n",
       "3      0\n",
       "4      0\n",
       "5      0\n",
       "      ..\n",
       "210    1\n",
       "211    1\n",
       "212    1\n",
       "213    1\n",
       "214    1\n",
       "Name: binary, Length: 214, dtype: int64"
      ]
     },
     "execution_count": 15,
     "metadata": {},
     "output_type": "execute_result"
    }
   ],
   "source": [
    "y=df.binary\n",
    "y"
   ]
  },
  {
   "cell_type": "markdown",
   "metadata": {},
   "source": [
    "## TASK 6: split X and y into training and testing set"
   ]
  },
  {
   "cell_type": "code",
   "execution_count": 16,
   "metadata": {
    "tags": []
   },
   "outputs": [],
   "source": [
    "from sklearn.model_selection import train_test_split"
   ]
  },
  {
   "cell_type": "code",
   "execution_count": 17,
   "metadata": {
    "tags": []
   },
   "outputs": [],
   "source": [
    "X_train, X_test, y_train, y_test = train_test_split(X, y, test_size=0.2, random_state=42)\n"
   ]
  },
  {
   "cell_type": "code",
   "execution_count": 18,
   "metadata": {
    "tags": []
   },
   "outputs": [
    {
     "name": "stdout",
     "output_type": "stream",
     "text": [
      "X shape: (214, 9)\n",
      "y shape: (214,)\n",
      "X_train shape: (171, 9)\n",
      "X_test shape: (43, 9)\n",
      "y_train shape: (171,)\n",
      "y_test shape: (43,)\n"
     ]
    }
   ],
   "source": [
    "# Display the shapes of the training and testing sets\n",
    "print(\"X shape:\",X.shape)\n",
    "print(\"y shape:\",y.shape)\n",
    "print(\"X_train shape:\", X_train.shape)\n",
    "print(\"X_test shape:\", X_test.shape)\n",
    "print(\"y_train shape:\", y_train.shape)\n",
    "print(\"y_test shape:\", y_test.shape)"
   ]
  },
  {
   "cell_type": "markdown",
   "metadata": {},
   "source": [
    "## TASK 7: fit a KNN model on the training set using K=5"
   ]
  },
  {
   "cell_type": "code",
   "execution_count": 19,
   "metadata": {
    "tags": []
   },
   "outputs": [
    {
     "data": {
      "text/html": [
       "<style>#sk-container-id-1 {color: black;background-color: white;}#sk-container-id-1 pre{padding: 0;}#sk-container-id-1 div.sk-toggleable {background-color: white;}#sk-container-id-1 label.sk-toggleable__label {cursor: pointer;display: block;width: 100%;margin-bottom: 0;padding: 0.3em;box-sizing: border-box;text-align: center;}#sk-container-id-1 label.sk-toggleable__label-arrow:before {content: \"▸\";float: left;margin-right: 0.25em;color: #696969;}#sk-container-id-1 label.sk-toggleable__label-arrow:hover:before {color: black;}#sk-container-id-1 div.sk-estimator:hover label.sk-toggleable__label-arrow:before {color: black;}#sk-container-id-1 div.sk-toggleable__content {max-height: 0;max-width: 0;overflow: hidden;text-align: left;background-color: #f0f8ff;}#sk-container-id-1 div.sk-toggleable__content pre {margin: 0.2em;color: black;border-radius: 0.25em;background-color: #f0f8ff;}#sk-container-id-1 input.sk-toggleable__control:checked~div.sk-toggleable__content {max-height: 200px;max-width: 100%;overflow: auto;}#sk-container-id-1 input.sk-toggleable__control:checked~label.sk-toggleable__label-arrow:before {content: \"▾\";}#sk-container-id-1 div.sk-estimator input.sk-toggleable__control:checked~label.sk-toggleable__label {background-color: #d4ebff;}#sk-container-id-1 div.sk-label input.sk-toggleable__control:checked~label.sk-toggleable__label {background-color: #d4ebff;}#sk-container-id-1 input.sk-hidden--visually {border: 0;clip: rect(1px 1px 1px 1px);clip: rect(1px, 1px, 1px, 1px);height: 1px;margin: -1px;overflow: hidden;padding: 0;position: absolute;width: 1px;}#sk-container-id-1 div.sk-estimator {font-family: monospace;background-color: #f0f8ff;border: 1px dotted black;border-radius: 0.25em;box-sizing: border-box;margin-bottom: 0.5em;}#sk-container-id-1 div.sk-estimator:hover {background-color: #d4ebff;}#sk-container-id-1 div.sk-parallel-item::after {content: \"\";width: 100%;border-bottom: 1px solid gray;flex-grow: 1;}#sk-container-id-1 div.sk-label:hover label.sk-toggleable__label {background-color: #d4ebff;}#sk-container-id-1 div.sk-serial::before {content: \"\";position: absolute;border-left: 1px solid gray;box-sizing: border-box;top: 0;bottom: 0;left: 50%;z-index: 0;}#sk-container-id-1 div.sk-serial {display: flex;flex-direction: column;align-items: center;background-color: white;padding-right: 0.2em;padding-left: 0.2em;position: relative;}#sk-container-id-1 div.sk-item {position: relative;z-index: 1;}#sk-container-id-1 div.sk-parallel {display: flex;align-items: stretch;justify-content: center;background-color: white;position: relative;}#sk-container-id-1 div.sk-item::before, #sk-container-id-1 div.sk-parallel-item::before {content: \"\";position: absolute;border-left: 1px solid gray;box-sizing: border-box;top: 0;bottom: 0;left: 50%;z-index: -1;}#sk-container-id-1 div.sk-parallel-item {display: flex;flex-direction: column;z-index: 1;position: relative;background-color: white;}#sk-container-id-1 div.sk-parallel-item:first-child::after {align-self: flex-end;width: 50%;}#sk-container-id-1 div.sk-parallel-item:last-child::after {align-self: flex-start;width: 50%;}#sk-container-id-1 div.sk-parallel-item:only-child::after {width: 0;}#sk-container-id-1 div.sk-dashed-wrapped {border: 1px dashed gray;margin: 0 0.4em 0.5em 0.4em;box-sizing: border-box;padding-bottom: 0.4em;background-color: white;}#sk-container-id-1 div.sk-label label {font-family: monospace;font-weight: bold;display: inline-block;line-height: 1.2em;}#sk-container-id-1 div.sk-label-container {text-align: center;}#sk-container-id-1 div.sk-container {/* jupyter's `normalize.less` sets `[hidden] { display: none; }` but bootstrap.min.css set `[hidden] { display: none !important; }` so we also need the `!important` here to be able to override the default hidden behavior on the sphinx rendered scikit-learn.org. See: https://github.com/scikit-learn/scikit-learn/issues/21755 */display: inline-block !important;position: relative;}#sk-container-id-1 div.sk-text-repr-fallback {display: none;}</style><div id=\"sk-container-id-1\" class=\"sk-top-container\"><div class=\"sk-text-repr-fallback\"><pre>KNeighborsClassifier()</pre><b>In a Jupyter environment, please rerun this cell to show the HTML representation or trust the notebook. <br />On GitHub, the HTML representation is unable to render, please try loading this page with nbviewer.org.</b></div><div class=\"sk-container\" hidden><div class=\"sk-item\"><div class=\"sk-estimator sk-toggleable\"><input class=\"sk-toggleable__control sk-hidden--visually\" id=\"sk-estimator-id-1\" type=\"checkbox\" checked><label for=\"sk-estimator-id-1\" class=\"sk-toggleable__label sk-toggleable__label-arrow\">KNeighborsClassifier</label><div class=\"sk-toggleable__content\"><pre>KNeighborsClassifier()</pre></div></div></div></div></div>"
      ],
      "text/plain": [
       "KNeighborsClassifier()"
      ]
     },
     "execution_count": 19,
     "metadata": {},
     "output_type": "execute_result"
    }
   ],
   "source": [
    "from sklearn.neighbors import KNeighborsClassifier\n",
    "from sklearn import metrics\n",
    "from sklearn.metrics import accuracy_score\n",
    "\n",
    "# Create a knn with K=5\n",
    "knn = KNeighborsClassifier(n_neighbors=5)\n",
    "\n",
    "# Fit the knn to the training data\n",
    "knn.fit(X_train, y_train)"
   ]
  },
  {
   "cell_type": "markdown",
   "metadata": {},
   "source": [
    "## TASK 8: make predictions on the testing set and calculate testing accuracy"
   ]
  },
  {
   "cell_type": "code",
   "execution_count": 20,
   "metadata": {
    "tags": []
   },
   "outputs": [
    {
     "data": {
      "text/plain": [
       "array([0, 1, 0, 1, 0, 0, 0, 0, 0, 0, 1, 0, 0, 0, 1, 1, 1, 0, 0, 1, 0, 1,\n",
       "       1, 1, 0, 0, 0, 0, 0, 0, 0, 0, 0, 0, 0, 1, 1, 0, 0, 0, 0, 1, 0])"
      ]
     },
     "execution_count": 20,
     "metadata": {},
     "output_type": "execute_result"
    }
   ],
   "source": [
    "y_pred=knn.predict(X_test)\n",
    "y_pred"
   ]
  },
  {
   "cell_type": "code",
   "execution_count": 21,
   "metadata": {
    "tags": []
   },
   "outputs": [
    {
     "data": {
      "text/plain": [
       "(43,)"
      ]
     },
     "execution_count": 21,
     "metadata": {},
     "output_type": "execute_result"
    }
   ],
   "source": [
    "y_pred.shape"
   ]
  },
  {
   "cell_type": "code",
   "execution_count": 22,
   "metadata": {
    "tags": []
   },
   "outputs": [
    {
     "data": {
      "text/plain": [
       "13"
      ]
     },
     "execution_count": 22,
     "metadata": {},
     "output_type": "execute_result"
    }
   ],
   "source": [
    "y_pred.sum()"
   ]
  },
  {
   "cell_type": "code",
   "execution_count": 23,
   "metadata": {
    "tags": []
   },
   "outputs": [
    {
     "data": {
      "text/plain": [
       "30"
      ]
     },
     "execution_count": 23,
     "metadata": {},
     "output_type": "execute_result"
    }
   ],
   "source": [
    "pred_false=43-13\n",
    "pred_false"
   ]
  },
  {
   "cell_type": "code",
   "execution_count": 24,
   "metadata": {
    "tags": []
   },
   "outputs": [
    {
     "data": {
      "text/plain": [
       "array([[28,  0],\n",
       "       [ 2, 13]])"
      ]
     },
     "execution_count": 24,
     "metadata": {},
     "output_type": "execute_result"
    }
   ],
   "source": [
    "from sklearn import metrics\n",
    "conf_matrix = metrics.confusion_matrix(y_test, y_pred)\n",
    "conf_matrix"
   ]
  },
  {
   "cell_type": "code",
   "execution_count": 25,
   "metadata": {
    "tags": []
   },
   "outputs": [
    {
     "data": {
      "text/plain": [
       "0.9534883720930233"
      ]
     },
     "execution_count": 25,
     "metadata": {},
     "output_type": "execute_result"
    }
   ],
   "source": [
    "# manually looking from confusion matrix\n",
    "(28+13)/(28+0+2+13)"
   ]
  },
  {
   "cell_type": "code",
   "execution_count": 26,
   "metadata": {
    "tags": []
   },
   "outputs": [
    {
     "data": {
      "text/plain": [
       "0.9534883720930233"
      ]
     },
     "execution_count": 26,
     "metadata": {},
     "output_type": "execute_result"
    }
   ],
   "source": [
    "# Calculate testing accuracy\n",
    "test_accuracy = accuracy_score(y_test, y_pred)\n",
    "test_accuracy"
   ]
  },
  {
   "cell_type": "markdown",
   "metadata": {},
   "source": [
    "## TASK 9: write a for loop that computes testing accuracy for a range of K values"
   ]
  },
  {
   "cell_type": "code",
   "execution_count": 29,
   "metadata": {
    "tags": []
   },
   "outputs": [
    {
     "name": "stdout",
     "output_type": "stream",
     "text": [
      "train accuracies: [1.0, 0.9767441860465116, 0.9767441860465116, 0.9302325581395349, 0.9534883720930233, 0.8837209302325582, 0.9302325581395349, 0.9302325581395349, 0.9302325581395349, 0.9302325581395349, 0.9302325581395349, 0.9302325581395349, 0.9302325581395349, 0.9302325581395349, 0.9534883720930233, 0.9534883720930233, 0.9534883720930233, 0.9534883720930233, 0.9534883720930233, 0.9302325581395349]\n",
      "\n",
      "test accuracies: [1.0, 0.9767441860465116, 0.9767441860465116, 0.9302325581395349, 0.9534883720930233, 0.8837209302325582, 0.9302325581395349, 0.9302325581395349, 0.9302325581395349, 0.9302325581395349, 0.9302325581395349, 0.9302325581395349, 0.9302325581395349, 0.9302325581395349, 0.9534883720930233, 0.9534883720930233, 0.9534883720930233, 0.9534883720930233, 0.9534883720930233, 0.9302325581395349]\n"
     ]
    }
   ],
   "source": [
    "\n",
    "\n",
    "# Initialize an empty list to store testing accuracies for each value of K\n",
    "train_accuracies=[]\n",
    "test_accuracies = []\n",
    "\n",
    "# Iterate over the range of K values\n",
    "for k in range(1,21):\n",
    "    # Create a KNN classifier with the current value of K\n",
    "    knn_classifier = KNeighborsClassifier(n_neighbors=k)\n",
    "    \n",
    "    # Fit the KNN classifier to the training data\n",
    "    knn_classifier.fit(X_train, y_train)\n",
    "    \n",
    "    # accuracies on the train set\n",
    "    y_pred_tr = knn_classifier.predict(X_test)\n",
    "    train_accuracy = accuracy_score(y_test, y_pred_tr)\n",
    "    train_accuracies.append(train_accuracy)\n",
    "    \n",
    "    # accuracies on the test set\n",
    "    y_pred_te = knn_classifier.predict(X_test)\n",
    "    test_accuracy = accuracy_score(y_test, y_pred_te)\n",
    "    test_accuracies.append(test_accuracy)\n",
    "    \n",
    "    '''\n",
    "    \n",
    "    # Make predictions on the testing set\n",
    "    y_pred = knn_classifier.predict(X_test)\n",
    "    \n",
    "    # Calculate testing accuracy\n",
    "    test_accuracy = accuracy_score(y_test, y_pred)\n",
    "    \n",
    "    # Append the testing accuracy to the list\n",
    "    test_accuracies.append(test_accuracy)\n",
    "    \n",
    "    '''\n",
    "\n",
    "print(\"train accuracies:\",train_accuracies)\n",
    "print()\n",
    "print(\"test accuracies:\",test_accuracies)"
   ]
  },
  {
   "cell_type": "code",
   "execution_count": 30,
   "metadata": {
    "tags": []
   },
   "outputs": [
    {
     "name": "stdout",
     "output_type": "stream",
     "text": [
      "k = 1   :  Test Accuracy = 1.0\n",
      "k = 2   :  Test Accuracy = 0.9767441860465116\n",
      "k = 3   :  Test Accuracy = 0.9767441860465116\n",
      "k = 4   :  Test Accuracy = 0.9302325581395349\n",
      "k = 5   :  Test Accuracy = 0.9534883720930233\n",
      "k = 6   :  Test Accuracy = 0.8837209302325582\n",
      "k = 7   :  Test Accuracy = 0.9302325581395349\n",
      "k = 8   :  Test Accuracy = 0.9302325581395349\n",
      "k = 9   :  Test Accuracy = 0.9302325581395349\n",
      "k = 10   :  Test Accuracy = 0.9302325581395349\n",
      "k = 11   :  Test Accuracy = 0.9302325581395349\n",
      "k = 12   :  Test Accuracy = 0.9302325581395349\n",
      "k = 13   :  Test Accuracy = 0.9302325581395349\n",
      "k = 14   :  Test Accuracy = 0.9302325581395349\n",
      "k = 15   :  Test Accuracy = 0.9534883720930233\n",
      "k = 16   :  Test Accuracy = 0.9534883720930233\n",
      "k = 17   :  Test Accuracy = 0.9534883720930233\n",
      "k = 18   :  Test Accuracy = 0.9534883720930233\n",
      "k = 19   :  Test Accuracy = 0.9534883720930233\n",
      "k = 20   :  Test Accuracy = 0.9302325581395349\n"
     ]
    }
   ],
   "source": [
    "# Print the testing accuracies for each value of K\n",
    "for k, accuracy in zip(range(1,21), test_accuracies):\n",
    "    print(f\"k = {k}   :  Test Accuracy = {accuracy}\")"
   ]
  },
  {
   "cell_type": "code",
   "execution_count": 32,
   "metadata": {
    "tags": []
   },
   "outputs": [
    {
     "data": {
      "text/plain": [
       "[0.9337662337662337,\n",
       " 0.9019480519480518,\n",
       " 0.8963203463203463,\n",
       " 0.8645021645021644,\n",
       " 0.8779220779220779,\n",
       " 0.8597402597402597,\n",
       " 0.8872294372294374,\n",
       " 0.8642857142857142,\n",
       " 0.8595238095238095,\n",
       " 0.8597402597402599,\n",
       " 0.8595238095238095,\n",
       " 0.8645021645021647,\n",
       " 0.8645021645021647,\n",
       " 0.8645021645021647,\n",
       " 0.8783549783549784,\n",
       " 0.8692640692640692,\n",
       " 0.8692640692640692,\n",
       " 0.8692640692640692,\n",
       " 0.8692640692640692,\n",
       " 0.8692640692640692]"
      ]
     },
     "execution_count": 32,
     "metadata": {},
     "output_type": "execute_result"
    }
   ],
   "source": [
    "from sklearn.model_selection import cross_val_score\n",
    "\n",
    "# Initialize an empty list to store testing accuracies for each value of K\n",
    "# train_accuracies=[]\n",
    "# test_accuracies = []\n",
    "\n",
    "scores=[]\n",
    "# Iterate over the range of K values\n",
    "for k in range(1,21):\n",
    "    # Create a KNN classifier with the current value of K\n",
    "    knn = KNeighborsClassifier(n_neighbors=k)\n",
    "    \n",
    "    # apply cross validation\n",
    "    score = cross_val_score(knn, X, y, cv=10, scoring='accuracy')\n",
    "    scores.append(score.mean())\n",
    "scores\n",
    "    "
   ]
  },
  {
   "cell_type": "code",
   "execution_count": 33,
   "metadata": {
    "tags": []
   },
   "outputs": [
    {
     "data": {
      "text/plain": [
       "[(1, 4), (2, 5), (3, 6)]"
      ]
     },
     "execution_count": 33,
     "metadata": {},
     "output_type": "execute_result"
    }
   ],
   "source": [
    "L1=[1,2,3]\n",
    "L2=[4,5,6]\n",
    "L=zip(L1,L2)\n",
    "list(L)"
   ]
  },
  {
   "cell_type": "markdown",
   "metadata": {
    "tags": []
   },
   "source": [
    "## TASK 10: plot K value versus testing accuracy to choose on optimal value for K"
   ]
  },
  {
   "cell_type": "code",
   "execution_count": 34,
   "metadata": {
    "tags": []
   },
   "outputs": [
    {
     "data": {
      "image/png": "[encoded data removed]",
      "text/plain": [
       "<Figure size 1000x600 with 1 Axes>"
      ]
     },
     "metadata": {},
     "output_type": "display_data"
    }
   ],
   "source": [
    "%matplotlib inline\n",
    "import matplotlib.pyplot as plt\n",
    "\n",
    "# Plot K value versus testing accuracy\n",
    "plt.figure(figsize=(10, 6))\n",
    "plt.plot(range(1,21), test_accuracies, marker='o', linestyle='-')\n",
    "plt.title('K Value versus Testing Accuracy')\n",
    "plt.xlabel('K Value')\n",
    "plt.ylabel('Testing Accuracy')\n",
    "plt.xticks(range(1,21))\n",
    "plt.grid(True)\n",
    "plt.show()\n"
   ]
  },
  {
   "cell_type": "code",
   "execution_count": 35,
   "metadata": {
    "tags": []
   },
   "outputs": [
    {
     "data": {
      "image/png": "[encoded data removed]",
      "text/plain": [
       "<Figure size 1000x600 with 1 Axes>"
      ]
     },
     "metadata": {},
     "output_type": "display_data"
    }
   ],
   "source": [
    "# Plot K value versus testing accuracy\n",
    "plt.figure(figsize=(10, 6))\n",
    "plt.plot(range(1,21), scores, marker='o', linestyle='-')\n",
    "plt.title('K Value versus Testing Accuracy')\n",
    "plt.xlabel('K Value')\n",
    "plt.ylabel('cross-validated Accuracy')\n",
    "plt.xticks(range(1,21))\n",
    "plt.grid(True)\n",
    "plt.show()\n"
   ]
  },
  {
   "cell_type": "markdown",
   "metadata": {},
   "source": [
    "## TASK 11: calculate the null accuracy (see instructions for explanation)"
   ]
  },
  {
   "cell_type": "code",
   "execution_count": null,
   "metadata": {
    "collapsed": false,
    "jupyter": {
     "outputs_hidden": false
    },
    "tags": []
   },
   "outputs": [],
   "source": [
    "df.binary.value_counts()"
   ]
  },
  {
   "cell_type": "code",
   "execution_count": null,
   "metadata": {
    "tags": []
   },
   "outputs": [],
   "source": [
    "# from actual \n",
    "51/(163+51)"
   ]
  },
  {
   "cell_type": "code",
   "execution_count": 36,
   "metadata": {
    "tags": []
   },
   "outputs": [
    {
     "data": {
      "text/plain": [
       "array([0, 1, 0, 1, 0, 0, 0, 0, 0, 0, 1, 0, 0, 0, 1, 1, 1, 0, 0, 1, 0, 1,\n",
       "       1, 1, 0, 0, 0, 0, 0, 0, 0, 0, 0, 0, 0, 1, 1, 0, 0, 0, 0, 1, 0])"
      ]
     },
     "execution_count": 36,
     "metadata": {},
     "output_type": "execute_result"
    }
   ],
   "source": [
    "y_pred"
   ]
  },
  {
   "cell_type": "code",
   "execution_count": 37,
   "metadata": {
    "tags": []
   },
   "outputs": [
    {
     "data": {
      "text/plain": [
       "13"
      ]
     },
     "execution_count": 37,
     "metadata": {},
     "output_type": "execute_result"
    }
   ],
   "source": [
    "y_pred.sum()"
   ]
  },
  {
   "cell_type": "code",
   "execution_count": null,
   "metadata": {
    "tags": []
   },
   "outputs": [],
   "source": [
    "y_pred.shape"
   ]
  },
  {
   "cell_type": "code",
   "execution_count": null,
   "metadata": {
    "tags": []
   },
   "outputs": [],
   "source": [
    "conf_matrix"
   ]
  },
  {
   "cell_type": "code",
   "execution_count": null,
   "metadata": {
    "tags": []
   },
   "outputs": [],
   "source": [
    "y_test.value_counts()"
   ]
  },
  {
   "cell_type": "code",
   "execution_count": null,
   "metadata": {
    "tags": []
   },
   "outputs": [],
   "source": [
    "28/(28+15)"
   ]
  },
  {
   "cell_type": "code",
   "execution_count": null,
   "metadata": {
    "tags": []
   },
   "outputs": [],
   "source": [
    "# equivalent function in scikit-learn\n",
    "from sklearn.dummy import DummyClassifier\n",
    "dumb = DummyClassifier(strategy='most_frequent')\n",
    "dumb.fit(X_train, y_train)\n",
    "y_dumb_class = dumb.predict(X_test)\n",
    "print (metrics.accuracy_score(y_test, y_dumb_class))"
   ]
  },
  {
   "cell_type": "markdown",
   "metadata": {},
   "source": [
    "## TASK 12: search for useful features"
   ]
  },
  {
   "cell_type": "code",
   "execution_count": null,
   "metadata": {
    "tags": []
   },
   "outputs": [],
   "source": [
    "# redo exercise using only those features\n",
    "feature_cols = ['mg','ba']"
   ]
  },
  {
   "cell_type": "code",
   "execution_count": null,
   "metadata": {
    "tags": []
   },
   "outputs": [],
   "source": [
    "X=df[feature_cols]\n",
    "X.head()"
   ]
  },
  {
   "cell_type": "code",
   "execution_count": null,
   "metadata": {
    "tags": []
   },
   "outputs": [],
   "source": [
    "y"
   ]
  },
  {
   "cell_type": "code",
   "execution_count": null,
   "metadata": {
    "tags": []
   },
   "outputs": [],
   "source": [
    "X_train, X_test, y_train, y_test = train_test_split(X, y, test_size=0.2, random_state=42)"
   ]
  },
  {
   "cell_type": "code",
   "execution_count": null,
   "metadata": {
    "tags": []
   },
   "outputs": [],
   "source": [
    "# Display the shapes of the training and testing sets\n",
    "print(\"X_train shape:\", X_train.shape)\n",
    "print(\"X_test shape:\", X_test.shape)\n",
    "print(\"y_train shape:\", y_train.shape)\n",
    "print(\"y_test shape:\", y_test.shape)"
   ]
  },
  {
   "cell_type": "code",
   "execution_count": null,
   "metadata": {
    "tags": []
   },
   "outputs": [],
   "source": [
    "X_train.head()"
   ]
  },
  {
   "cell_type": "code",
   "execution_count": null,
   "metadata": {
    "tags": []
   },
   "outputs": [],
   "source": [
    "X_test.head()"
   ]
  },
  {
   "cell_type": "code",
   "execution_count": null,
   "metadata": {
    "tags": []
   },
   "outputs": [],
   "source": [
    "y_train.head()"
   ]
  },
  {
   "cell_type": "code",
   "execution_count": null,
   "metadata": {
    "tags": []
   },
   "outputs": [],
   "source": [
    "y_test.head()"
   ]
  },
  {
   "cell_type": "code",
   "execution_count": null,
   "metadata": {
    "tags": []
   },
   "outputs": [],
   "source": [
    "# Fit the knn to the training data\n",
    "knn.fit(X_train, y_train)"
   ]
  },
  {
   "cell_type": "code",
   "execution_count": null,
   "metadata": {
    "tags": []
   },
   "outputs": [],
   "source": [
    "y_pred=knn.predict(X_test)\n",
    "y_pred"
   ]
  },
  {
   "cell_type": "code",
   "execution_count": null,
   "metadata": {
    "tags": []
   },
   "outputs": [],
   "source": [
    "conf_matrix = metrics.confusion_matrix(y_test, y_pred)\n",
    "conf_matrix"
   ]
  },
  {
   "cell_type": "code",
   "execution_count": null,
   "metadata": {
    "tags": []
   },
   "outputs": [],
   "source": [
    "# manually \n",
    "accuracy=(28+9)/(28+0+6+9)\n",
    "accuracy"
   ]
  },
  {
   "cell_type": "code",
   "execution_count": null,
   "metadata": {
    "tags": []
   },
   "outputs": [],
   "source": [
    "test_accuracy=accuracy_score(y_test,y_pred)\n",
    "test_accuracy"
   ]
  },
  {
   "cell_type": "code",
   "execution_count": null,
   "metadata": {},
   "outputs": [],
   "source": []
  }
 ],
 "metadata": {
  "anaconda-cloud": {},
  "kernelspec": {
   "display_name": "Python 3 (ipykernel)",
   "language": "python",
   "name": "python3"
  },
  "language_info": {
   "codemirror_mode": {
    "name": "ipython",
    "version": 3
   },
   "file_extension": ".py",
   "mimetype": "text/x-python",
   "name": "python",
   "nbconvert_exporter": "python",
   "pygments_lexer": "ipython3",
   "version": "3.11.5"
  }
 },
 "nbformat": 4,
 "nbformat_minor": 4
}
